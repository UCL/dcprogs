{
 "cells": [
  {
   "cell_type": "markdown",
   "metadata": {},
   "source": [
    "# MissedEvents"
   ]
  },
  {
   "cell_type": "code",
   "execution_count": 1,
   "metadata": {
    "collapsed": true
   },
   "outputs": [],
   "source": [
    "%matplotlib inline"
   ]
  },
  {
   "cell_type": "code",
   "execution_count": 2,
   "metadata": {
    "collapsed": true
   },
   "outputs": [],
   "source": [
    "import numpy as np\n",
    "import matplotlib.pyplot as plt"
   ]
  },
  {
   "cell_type": "code",
   "execution_count": 3,
   "metadata": {
    "collapsed": false
   },
   "outputs": [
    {
     "name": "stdout",
     "output_type": "stream",
     "text": [
      "[[  5.45096768e+02   3.58690111e-02   4.58704226e-17]\n",
      " [  7.25589315e+01   4.77459650e-03  -3.30159469e-18]\n",
      " [  1.26939914e-02   8.35302916e-07   5.28345648e-12]\n",
      " [  3.84501585e-05   2.53013637e-09   3.88147430e-01]\n",
      " [ -7.28448003e-18  -4.79340753e-22   6.91575829e-01]\n",
      " [  1.03253949e-03   6.79442118e-08   5.22642795e-06]]\n",
      "[[  5.45096768e+02   3.58690111e-02   4.58704226e-17]\n",
      " [  7.25589315e+01   4.77459650e-03  -3.30159469e-18]\n",
      " [  1.26939914e-02   8.35302916e-07   5.28345648e-12]\n",
      " [  3.84501585e-05   2.53013637e-09   3.88147430e-01]\n",
      " [ -7.28448003e-18  -4.79340753e-22   6.91575829e-01]\n",
      " [  1.03253949e-03   6.79442118e-08   5.22642795e-06]]\n"
     ]
    }
   ],
   "source": [
    "from numpy import array\n",
    "from HJCFIT.likelihood import QMatrix, DeterminantEq, Asymptotes, find_roots, ExactSurvivor, \\\n",
    "                               ApproxSurvivor, ApproxSurvivor, MissedEventsG, \\\n",
    "                               expm\n",
    "qmatrix = QMatrix([[ -3050,        50,  3000,      0,    0 ], \n",
    "                   [ 2./3., -1502./3.,     0,    500,    0 ],  \n",
    "                   [    15,         0, -2065,     50, 2000 ],  \n",
    "                   [     0,     15000,  4000, -19000,    0 ],  \n",
    "                   [     0,         0,    10,      0,  -10 ] ], 2)\n",
    "qmatrix = QMatrix([[ -1.639102438935231,  0.9279328542626132,                   0,  0.7111695846726181,                   0,                   0,                   0,                   0,                   0],\n",
    "       [  7319.818837397022,  -7319.818837397022,                   0,                   0,                   0,                   0,                   0,                   0,                   0],\n",
    "       [                  0,                   0, -0.5849255773178983,                   0,                   0,                   0, 0.05800330713458401,  0.5269222701833143,                   0],\n",
    "       [  554.9144283943098,                   0,                   0,   -556.415038972956,   0.670095369096168,  0.8305152095500998,                   0,                   0,                   0],\n",
    "       [                  0,                   0,                   0,   4445.029004693305,  -4445.029004693305,                   0,                   0,                   0,                   0],\n",
    "       [                  0,                   0,                   0,  0.7249830360634507,                   0, -0.7855125406770954,                   0,                   0, 0.06052950461364481],\n",
    "       [                  0,                   0,  0.4346782743227515,                   0,                   0,                   0,  -3554.307968015994,                   0,   3553.873289741671],\n",
    "       [                  0,                   0,  0.6916315120151144,                   0,                   0,                   0,                   0, -0.6916315120151144,                   0],\n",
    "       [                  0,                   0,                   0,                   0,                   0,   5390.604449280132,   0.435406457067279,                   0,  -5391.039855737199]], 3)\n",
    "transitions = qmatrix\n",
    "tau = 1e-4\n",
    "a = DeterminantEq(transitions, tau)\n",
    "G = MissedEventsG(transitions, tau, 4)\n",
    "approx = ApproxSurvivor(transitions, tau)\n",
    "exact = ExactSurvivor(transitions, tau)\n",
    "factor = np.dot(qmatrix.fa, expm(tau*qmatrix.aa))\n",
    "#print factor\n",
    "print(G.fa(tau * 1.31838319649))\n",
    "print(np.dot(exact.fa(tau * 1.31838319649-tau), factor))"
   ]
  },
  {
   "cell_type": "code",
   "execution_count": 4,
   "metadata": {
    "collapsed": false
   },
   "outputs": [
    {
     "data": {
      "image/png": "[encoded data removed]",
      "text/plain": [
       "<matplotlib.figure.Figure at 0x74704a8>"
      ]
     },
     "metadata": {},
     "output_type": "display_data"
    }
   ],
   "source": [
    "from HJCFIT.likelihood import network\n",
    "from networkx import draw as nx_draw, draw_spectral\n",
    "\n",
    "graph = network(qmatrix)\n",
    "nx_draw(graph)"
   ]
  },
  {
   "cell_type": "code",
   "execution_count": 5,
   "metadata": {
    "collapsed": false
   },
   "outputs": [
    {
     "name": "stdout",
     "output_type": "stream",
     "text": [
      "[[  1.00000000e+00  -3.72362979e-20   3.98565840e-17]\n",
      " [ -1.90203993e-16   1.00000000e+00   8.58280665e-28]\n",
      " [ -1.83880688e-16  -1.43995601e-20   1.00000000e+00]]\n",
      "[[  9.99998098e-01   7.10033034e-11  -1.14561128e-21]\n",
      " [  5.60101709e-07   1.00000000e+00  -1.14894920e-21]\n",
      " [ -1.21873763e-13  -4.22346238e-17   9.99999998e-01]]\n"
     ]
    }
   ],
   "source": [
    "from numpy import outer\n",
    "from HJCFIT.likelihood import Asymptotes, DeterminantEq, eig, inv\n",
    "eigenvalues, eigenvectors = eig(-qmatrix.matrix)\n",
    "def get_ci00(i): \n",
    "    return outer(eigenvectors[:, i], inv(eigenvectors)[i, :])[:qmatrix.nopen, :qmatrix.nopen]\n",
    "s = get_ci00(0)\n",
    "for i in range(1, len(eigenvalues)):\n",
    "   # if abs(eigenvalues[i]) > 1e-8:\n",
    "        s += get_ci00(i)\n",
    "print(s)\n",
    "print(approx.af_components[0][0] + approx.af_components[1][0] + approx.af_components[2][0])"
   ]
  },
  {
   "cell_type": "code",
   "execution_count": 6,
   "metadata": {
    "collapsed": false
   },
   "outputs": [
    {
     "name": "stdout",
     "output_type": "stream",
     "text": [
      "0.00030000000000000003\n",
      "[ 0.0001   0.00011  0.00012  0.00013  0.00014  0.00015  0.00016  0.00017\n",
      "  0.00018  0.00019  0.0002   0.00021  0.00022  0.00023  0.00024  0.00025\n",
      "  0.00026  0.00027  0.00028  0.00029  0.0003 ]\n"
     ]
    },
    {
     "data": {
      "image/png": "[encoded data removed]",
      "text/plain": [
       "<matplotlib.figure.Figure at 0x8618b70>"
      ]
     },
     "metadata": {},
     "output_type": "display_data"
    }
   ],
   "source": [
    "tau, i, j, n = 1e-4, 0, 0, 3\n",
    "\n",
    "x = np.arange(tau, n * tau, tau / 10.)\n",
    "fig, ax = plt.subplots(1,1)\n",
    "ax.plot(x, np.dot(exact.af(x-tau), G.af_factor)[:, i, j], '.', label=\"exact\")\n",
    "ax.plot(x, np.dot(approx.af(x-tau), G.af_factor)[:, i, j], \"-.\", label=\"approx\")\n",
    "ax.plot(x, G.af(x)[:, i, j], '--', label=\"G\")\n",
    "ax.set_title(\"Component ${0}$ of the matrix $^{{e}}G_{{af}}$.\".format((i, j)))\n",
    "fig.tight_layout()\n",
    "#legend()\n",
    "#display(gcf())\n",
    "print(G.tmax)\n",
    "print(x)"
   ]
  },
  {
   "cell_type": "code",
   "execution_count": 7,
   "metadata": {
    "collapsed": false
   },
   "outputs": [
    {
     "name": "stdout",
     "output_type": "stream",
     "text": [
      "[ -6.59166060e+05   6.46519434e+05  -3.22595069e+01   2.85250486e+01\n",
      "  -6.72742082e-01  -2.90668063e-02]\n"
     ]
    },
    {
     "data": {
      "text/plain": [
       "-25304.6324023797"
      ]
     },
     "execution_count": 7,
     "metadata": {},
     "output_type": "execute_result"
    }
   ],
   "source": [
    "from HJCFIT.likelihood import DeterminantEq, find_lower_bound_for_roots, eig\n",
    "a = DeterminantEq([[ -0.9765569699831389,                    0,                    0,                    0,                    0,                    0,   0.9765569699831388,                    0,                    0],\n",
    "       [                   0,   -21087.12668613774,                    0,                    0,                    0,    4972.429427806393,    9423.400001111493,   0.7672868902249316,    6690.529970329637],\n",
    "       [                   0,                    0, -0.02903705186960781,                    0,  0.02903705186960781,                    0,                    0,                    0,                    0],\n",
    "       [                   0,                    0,                    0,   -8967.619224739678,                    0,                    0,                    0,    8967.455151523045,   0.1640732166323416],\n",
    "       [                   0,                    0,   0.2978885248190503,                    0,  -0.4287224564347299,                    0,                    0,   0.1308339316156797,                    0],\n",
    "       [                   0,   0.7275421797587975,                    0,                    0,                    0,    -1.19022223735187,                    0,    0.102814653125226,   0.3598654044678464],\n",
    "       [  0.1209377584689361,  0.05943271459974253,                    0,                    0,                    0,                    0,  -0.1803704730686787,                    0,                    0],\n",
    "       [                   0,   0.8265398081401302,                    0,   0.6009896070678163,    3588.624442956896,   0.7814141825061616,                    0,    -3590.83338655461,                    0],\n",
    "       [                   0,   0.8191655510502869,                    0,    8172.231231533744,                    0,    7421.575697898968,                    0,                    0,   -15594.62609498376]], 6, 1e-4)\n",
    "print(eig(a.H(-126523))[0])\n",
    "find_lower_bound_for_roots(a)"
   ]
  },
  {
   "cell_type": "code",
   "execution_count": null,
   "metadata": {
    "collapsed": true
   },
   "outputs": [],
   "source": []
  }
 ],
 "metadata": {
  "kernelspec": {
   "display_name": "Python [Root]",
   "language": "python",
   "name": "Python [Root]"
  },
  "language_info": {
   "codemirror_mode": {
    "name": "ipython",
    "version": 3
   },
   "file_extension": ".py",
   "mimetype": "text/x-python",
   "name": "python",
   "nbconvert_exporter": "python",
   "pygments_lexer": "ipython3",
   "version": "3.5.1"
  }
 },
 "nbformat": 4,
 "nbformat_minor": 0
}
