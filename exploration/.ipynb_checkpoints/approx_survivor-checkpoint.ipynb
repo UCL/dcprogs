{
 "cells": [
  {
   "cell_type": "markdown",
   "metadata": {},
   "source": [
    "# Approx Survivor"
   ]
  },
  {
   "cell_type": "code",
   "execution_count": 1,
   "metadata": {
    "collapsed": true
   },
   "outputs": [],
   "source": [
    "%matplotlib inline"
   ]
  },
  {
   "cell_type": "code",
   "execution_count": 2,
   "metadata": {
    "collapsed": true
   },
   "outputs": [],
   "source": [
    "import numpy as np\n",
    "import matplotlib.pyplot as plt"
   ]
  },
  {
   "cell_type": "code",
   "execution_count": 3,
   "metadata": {
    "collapsed": false
   },
   "outputs": [],
   "source": [
    "from numpy import array\n",
    "from HJCFIT.likelihood import QMatrix, DeterminantEq, Asymptotes, find_roots, ExactSurvivor, ApproxSurvivor\n",
    "qmatrix = QMatrix( \n",
    "           array([[ -3050,        50,  3000,      0,    0 ], \n",
    "                  [ 2./3., -1502./3.,     0,    500,    0 ],  \n",
    "                  [    15,         0, -2065,     50, 2000 ],  \n",
    "                  [     0,     15000,  4000, -19000,    0 ],  \n",
    "                  [     0,         0,    10,      0,  -10 ] ]), 2)\n",
    "\n",
    "transitions = qmatrix\n",
    "tau = 1e-4\n",
    "a = DeterminantEq(transitions, tau)\n",
    "approx = ApproxSurvivor(transitions, tau)"
   ]
  },
  {
   "cell_type": "code",
   "execution_count": 4,
   "metadata": {
    "collapsed": false
   },
   "outputs": [
    {
     "data": {
      "image/png": "[encoded data removed]",
      "text/plain": [
       "<matplotlib.figure.Figure at 0x688b048>"
      ]
     },
     "metadata": {},
     "output_type": "display_data"
    }
   ],
   "source": [
    "tau, i, j, n = 1e-4, 2, 2, 4\n",
    "\n",
    "transitions = qmatrix.transpose()\n",
    "exact = ExactSurvivor(transitions, tau)\n",
    "approx = ApproxSurvivor(transitions, tau)\n",
    "\n",
    "x = np.arange(0, n * tau, tau / 10.)\n",
    "fig, ax = plt.subplots(1,1)\n",
    "ax.plot(x, exact.af(x)[:, i, j], label=\"exact\")\n",
    "ax.plot(x, approx.af(x)[:, i, j], label=\"approx\")\n",
    "ax.set_title(\"Component ${0}$ of the matrix $R_{{af}}$.\".format((i, j)))\n",
    "ax.legend()\n",
    "fig.tight_layout()"
   ]
  },
  {
   "cell_type": "code",
   "execution_count": 5,
   "metadata": {
    "collapsed": false
   },
   "outputs": [
    {
     "name": "stdout",
     "output_type": "stream",
     "text": [
      "[[ 0.  0.]\n",
      " [ 0.  0.]\n",
      " [ 0.  0.]]\n"
     ]
    },
    {
     "data": {
      "image/png": "[encoded data removed]",
      "text/plain": [
       "<matplotlib.figure.Figure at 0x6dcc710>"
      ]
     },
     "metadata": {},
     "output_type": "display_data"
    }
   ],
   "source": [
    "from HJCFIT.likelihood import MissedEventsG, missed_events_pdf\n",
    "\n",
    "tau = 2e-4\n",
    "x, i, j = np.arange(0, 8*tau, tau/10.0), 2, 0\n",
    "missedG = MissedEventsG(qmatrix, tau)\n",
    "pdf = missed_events_pdf(qmatrix, tau, shut=True)\n",
    "print(missedG.fa(0))\n",
    "#plot(x, [missedG.fa(u)[i, j] for u in x])\n",
    "fig, ax = plt.subplots(1,1)\n",
    "ax.plot(x, pdf(x))\n",
    "# plot(x, missed_events_pdf(qmatrix, tau, shut=True)(x))\n",
    "fig.tight_layout()"
   ]
  },
  {
   "cell_type": "code",
   "execution_count": 6,
   "metadata": {
    "collapsed": false
   },
   "outputs": [
    {
     "name": "stdout",
     "output_type": "stream",
     "text": [
      "[[  1.00078277e+00   1.95134590e-03]\n",
      " [  2.60179453e-05   1.02029429e+00]]\n",
      "\n",
      "[[  1.00078277e+00   1.95134590e-03]\n",
      " [  2.60179453e-05   1.02029429e+00]]\n",
      "[[ -1.47868762e-09   1.38459950e-10]\n",
      " [  8.32130331e-13   3.23290061e-10]]\n"
     ]
    }
   ],
   "source": [
    "def create_derivative(qmatrix, tau):\n",
    "    from HJCFIT.likelihood import inv, expm\n",
    "    \n",
    "    If = np.identity(qmatrix.nshut)\n",
    "    Ia = np.identity(qmatrix.nopen)\n",
    " \n",
    "    def Xff(s): return s*If - qmatrix.ff\n",
    "    def Sff(s): return If - expm(-tau*Xff(s))\n",
    "    def Gaf(s): return np.dot(inv(Xff(s)), qmatrix.fa)\n",
    "  \n",
    "    def derivative(s):\n",
    "        result = np.dot(Sff(s), inv(Xff(s))) - tau * (If - Sff(s))\n",
    "        return Ia + np.dot(np.dot(qmatrix.af, result), Gaf(s)) \n",
    "    return derivative\n",
    "\n",
    "derivative = create_derivative(qmatrix, tau)\n",
    "print(derivative(-1000))\n",
    "print()\n",
    "determinant = DeterminantEq(qmatrix, tau)\n",
    "print(determinant.s_derivative(-1000))\n",
    "print(-(determinant.H(-1000+1e-4) -  determinant.H(-1000-1e-4)) / (2e-4) + np.identity(qmatrix.nopen) - determinant.s_derivative(-1000))"
   ]
  }
 ],
 "metadata": {
  "anaconda-cloud": {},
  "kernelspec": {
   "display_name": "Python [Root]",
   "language": "python",
   "name": "Python [Root]"
  },
  "language_info": {
   "codemirror_mode": {
    "name": "ipython",
    "version": 3
   },
   "file_extension": ".py",
   "mimetype": "text/x-python",
   "name": "python",
   "nbconvert_exporter": "python",
   "pygments_lexer": "ipython3",
   "version": "3.5.1"
  }
 },
 "nbformat": 4,
 "nbformat_minor": 0
}
