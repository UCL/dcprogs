{
 "cells": [
  {
   "cell_type": "markdown",
   "metadata": {},
   "source": [
    "# CHS vector"
   ]
  },
  {
   "cell_type": "markdown",
   "metadata": {},
   "source": [
    "First, create the $Q$-matrix from the CH82 model."
   ]
  },
  {
   "cell_type": "code",
   "execution_count": 1,
   "metadata": {
    "collapsed": true
   },
   "outputs": [],
   "source": [
    "%matplotlib inline"
   ]
  },
  {
   "cell_type": "code",
   "execution_count": 2,
   "metadata": {
    "collapsed": true
   },
   "outputs": [],
   "source": [
    "import matplotlib.pyplot as plt\n",
    "import numpy as np"
   ]
  },
  {
   "cell_type": "code",
   "execution_count": 3,
   "metadata": {
    "collapsed": false
   },
   "outputs": [],
   "source": [
    "from HJCFIT.likelihood import QMatrix\n",
    "\n",
    "tau = 1e-4\n",
    "qmatrix = QMatrix([[ -3050,        50,  3000,      0,    0 ], \n",
    "                   [ 2./3., -1502./3.,     0,    500,    0 ],  \n",
    "                   [    15,         0, -2065,     50, 2000 ],  \n",
    "                   [     0,     15000,  4000, -19000,    0 ],  \n",
    "                   [     0,         0,    10,      0,  -10 ] ], 2)"
   ]
  },
  {
   "cell_type": "markdown",
   "metadata": {},
   "source": [
    "Then create the missed-events likelihood function $^{e}G$ from which the CHS vectors can be found. \n",
    "We compare the vectors to prior results."
   ]
  },
  {
   "cell_type": "code",
   "execution_count": 5,
   "metadata": {
    "collapsed": false
   },
   "outputs": [],
   "source": [
    "from HJCFIT.likelihood import MissedEventsG\n",
    "\n",
    "eG = MissedEventsG(qmatrix, tau)\n",
    "assert np.all(abs(eG.initial_CHS_vectors(4e-3) - [0.220418, 0.779582]) < 1e-5)\n",
    "assert np.all(abs(eG.final_CHS_vectors(4e-3) - [0.974852, 0.21346, 0.999179]) < 1e-5)\n",
    "np.set_printoptions(precision=15)"
   ]
  },
  {
   "cell_type": "code",
   "execution_count": 6,
   "metadata": {
    "collapsed": false
   },
   "outputs": [
    {
     "data": {
      "image/png": "[encoded data removed]",
      "text/plain": [
       "<matplotlib.figure.Figure at 0x750a390>"
      ]
     },
     "metadata": {},
     "output_type": "display_data"
    }
   ],
   "source": [
    "fig, ax = plt.subplots(1, 2)\n",
    "\n",
    "x = np.arange(0, 5*tau, tau/10)\n",
    "\n",
    "ax[0].plot(x*1e3, [eG.initial_CHS_vectors(u)[0] for u in x])\n",
    "ax[0].set_xlabel('$t_{\\mathrm{crit}}$ (ms)')\n",
    "ax[0].set_ylabel('Components of the initial CHS vector $\\phi_A$')\n",
    "\n",
    "ax[1].plot(x*1e3, [eG.final_CHS_vectors(u)[0] for u in x])\n",
    "ax[1].set_xlabel('$t_{\\mathrm{crit}}$ (ms)')\n",
    "ax[1].set_ylabel('Components of the final CHS vector $e_F$')\n",
    "ax[1].yaxis.tick_right()\n",
    "ax[1].yaxis.set_label_position(\"right\")\n",
    "\n",
    "fig.tight_layout()"
   ]
  },
  {
   "cell_type": "code",
   "execution_count": 7,
   "metadata": {
    "collapsed": false
   },
   "outputs": [
    {
     "name": "stdout",
     "output_type": "stream",
     "text": [
      "[[ 0.17394315362718  0.82605684637282]]\n",
      "[ 0.976491211386195  0.222305380522348  0.999257244552635]\n"
     ]
    }
   ],
   "source": [
    "qmatrix = QMatrix([[ -3050,        50,  3000,      0,    0 ], \n",
    "                   [ 2./3., -1502./3.,     0,    500,    0 ],  \n",
    "                   [    15,         0, -2065,     50, 2000 ],  \n",
    "                   [     0,     15000,  4000, -19000,    0 ],  \n",
    "                   [     0,         0,    10,      0,  -10 ] ], 2)\n",
    "qmatrix.matrix /= 1e3\n",
    "eG = MissedEventsG(qmatrix, 0.2)\n",
    "print(eG.initial_CHS_vectors(4))\n",
    "print(eG.final_CHS_vectors(4))"
   ]
  },
  {
   "cell_type": "code",
   "execution_count": 8,
   "metadata": {
    "collapsed": false
   },
   "outputs": [
    {
     "name": "stdout",
     "output_type": "stream",
     "text": [
      "[ 1.]\n",
      "[ 0.369080824446409  0.942440306684312]\n"
     ]
    }
   ],
   "source": [
    "qmatrix = QMatrix([[-1, 1, 0], [19, -29, 10], [0, 0.026, -0.026]], 1)\n",
    "eG = MissedEventsG(qmatrix, 0.2)\n",
    "print(eG.initial_CHS_vectors(0.2))\n",
    "print(eG.final_CHS_vectors(4))"
   ]
  },
  {
   "cell_type": "code",
   "execution_count": 9,
   "metadata": {
    "collapsed": false
   },
   "outputs": [
    {
     "name": "stdout",
     "output_type": "stream",
     "text": [
      "[ 1.]\n",
      "[ 0.846530054887703  0.168045183806245  0.852959014045745]\n"
     ]
    }
   ],
   "source": [
    "qmatrix = QMatrix([ [-2,    1,   1,    0], \n",
    "                    [ 1, -101,   0,  100], \n",
    "                    [50,    0, -50,    0],\n",
    "                    [ 0,  5.6,   0, -5.6]], 1)\n",
    "eG = MissedEventsG(qmatrix, 0.2)\n",
    "print(eG.initial_CHS_vectors(4))\n",
    "print(eG.final_CHS_vectors(4))"
   ]
  },
  {
   "cell_type": "code",
   "execution_count": null,
   "metadata": {
    "collapsed": true
   },
   "outputs": [],
   "source": []
  }
 ],
 "metadata": {
  "anaconda-cloud": {},
  "kernelspec": {
   "display_name": "Python [Root]",
   "language": "python",
   "name": "Python [Root]"
  },
  "language_info": {
   "codemirror_mode": {
    "name": "ipython",
    "version": 3
   },
   "file_extension": ".py",
   "mimetype": "text/x-python",
   "name": "python",
   "nbconvert_exporter": "python",
   "pygments_lexer": "ipython3",
   "version": "3.5.1"
  }
 },
 "nbformat": 4,
 "nbformat_minor": 0
}
