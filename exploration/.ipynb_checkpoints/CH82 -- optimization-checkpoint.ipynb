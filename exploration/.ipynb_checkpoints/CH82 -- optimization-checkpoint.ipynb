{
 "cells": [
  {
   "cell_type": "markdown",
   "metadata": {},
   "source": [
    "# CH82 -- optimization"
   ]
  },
  {
   "cell_type": "markdown",
   "metadata": {},
   "source": [
    "Input: Defines the model and constraints"
   ]
  },
  {
   "cell_type": "code",
   "execution_count": 1,
   "metadata": {
    "collapsed": false
   },
   "outputs": [],
   "source": [
    "from HJCFIT import read_idealized_bursts\n",
    "from HJCFIT.likelihood import QMatrix\n",
    "\n",
    "name   = \"CH82.scn\"\n",
    "tau    = 1e-4\n",
    "tcrit  = 4e-3 \n",
    "graph  = [[\"V\", \"V\", \"V\",   0,   0],\n",
    "          [\"V\", \"V\",   0, \"V\",   0],\n",
    "          [\"V\",   0, \"V\", \"V\", \"V\"],\n",
    "          [  0, \"V\", \"V\", \"V\",   0],\n",
    "          [  0,   0, \"V\",   0, \"V\"]] \n",
    "nopen  = 2\n",
    "qmatrix = QMatrix([[ -3050,        50,  3000,      0,    0 ], \n",
    "                  [ 2./3., -1502./3.,     0,    500,    0 ],  \n",
    "                  [    15,         0, -2065,     50, 2000 ],  \n",
    "                  [     0,     15000,  4000, -19000,    0 ],  \n",
    "                  [     0,         0,    10,      0,  -10 ] ], 2)\n",
    "\n",
    "bursts = read_idealized_bursts(name, tau=tau, tcrit=tcrit)"
   ]
  },
  {
   "cell_type": "markdown",
   "metadata": {},
   "source": [
    "Creates the constraints, the likelihood function, as well as a function to create random Q-matrix."
   ]
  },
  {
   "cell_type": "code",
   "execution_count": 2,
   "metadata": {
    "collapsed": false
   },
   "outputs": [],
   "source": [
    "from scipy.optimize import minimize\n",
    "from numpy import NaN, zeros, arange\n",
    "import numpy as np\n",
    "from HJCFIT.likelihood.random import qmatrix as random_qmatrix\n",
    "from HJCFIT.likelihood import QMatrix, Log10Likelihood\n",
    "from HJCFIT.likelihood.optimization import reduce_likelihood\n",
    "\n",
    "likelihood = Log10Likelihood(bursts, nopen, tau, tcrit)\n",
    "reduced = reduce_likelihood(likelihood, graph)\n",
    "x = reduced.to_reduced_coords( random_qmatrix(5).matrix )\n",
    "\n",
    "constraints = []\n",
    "def create_inequality_constraints(i, value=0e0, sign=1e0):\n",
    "    f = lambda x: sign * (x[i]  - value)\n",
    "    def df(x):\n",
    "        a = zeros(x.shape)\n",
    "        a[i] = sign\n",
    "        return a\n",
    "    return f, df\n",
    "\n",
    "for i in range(len(x)):\n",
    "    f, df = create_inequality_constraints(i)\n",
    "    constraints.append({'type': 'ineq', 'fun': f, 'jac': df})\n",
    "    f, df = create_inequality_constraints(i, 1e4, -1)\n",
    "    constraints.append({'type': 'ineq', 'fun': f, 'jac': df})\n",
    "\n",
    "    \n",
    "def random_starting_point():\n",
    "    from numpy import infty, NaN\n",
    "    from HJCFIT.likelihood.random import rate_matrix as random_rate_matrix\n",
    "    \n",
    "     \n",
    "    for i in range(100):\n",
    "        matrix = random_rate_matrix(N=len(qmatrix.matrix), zeroprob=0)\n",
    "        x = reduced.to_reduced_coords( matrix )\n",
    "        try: \n",
    "            result = reduced(x)\n",
    "            print(result, reduced.to_full_coords(x))\n",
    "        except:\n",
    "            pass\n",
    "        else: \n",
    "            if result != NaN and result != infty and result != -infty: break\n",
    "    else: raise RuntimeError(\"Could not create random matrix\") \n",
    "    return x\n",
    "\n",
    "def does_not_throw(x):\n",
    "    try: return -reduced(x)\n",
    "    except: return NaN"
   ]
  },
  {
   "cell_type": "markdown",
   "metadata": {},
   "source": [
    "Performs the minimization"
   ]
  },
  {
   "cell_type": "code",
   "execution_count": 3,
   "metadata": {
    "collapsed": false
   },
   "outputs": [
    {
     "name": "stdout",
     "output_type": "stream",
     "text": [
      "-640.830069172272 [[ -6.21619693e-01   3.80010323e-01   2.41609369e-01   0.00000000e+00\n",
      "    0.00000000e+00]\n",
      " [  3.10903942e+03  -3.10919359e+03   0.00000000e+00   1.54171557e-01\n",
      "    0.00000000e+00]\n",
      " [  1.59277846e-01   0.00000000e+00  -9.08913654e+03   9.08867581e+03\n",
      "    3.01453712e-01]\n",
      " [  0.00000000e+00   4.39644066e-01   2.78736992e-01  -7.18381058e-01\n",
      "    0.00000000e+00]\n",
      " [  0.00000000e+00   0.00000000e+00   1.54808746e-01   0.00000000e+00\n",
      "   -1.54808746e-01]]\n",
      "x= [  3.80010323e-01   2.41609369e-01   3.10903942e+03   1.54171557e-01\n",
      "   1.59277846e-01   9.08867581e+03   3.01453712e-01   4.39644066e-01\n",
      "   2.78736992e-01   1.54808746e-01]\n",
      "     fun: -2062.8258070089187\n",
      "   maxcv: 8.7670065147940707e-16\n",
      " message: 'Maximum number of function evaluations has been exceeded.'\n",
      "    nfev: 1000\n",
      "  status: 2\n",
      " success: False\n",
      "       x: array([ -8.76700651e-16,   1.75097884e+02,   3.11563723e+03,\n",
      "         2.68478978e+02,   6.06596893e+02,   9.06857871e+03,\n",
      "         1.73472348e-18,   1.77190965e+01,  -3.03804457e-16,\n",
      "         7.92641819e-01])\n",
      "-697.0699667052597 [[ -2.18554574e-01   8.96065006e-02   1.28948074e-01   0.00000000e+00\n",
      "    0.00000000e+00]\n",
      " [  6.92249289e+02  -6.92781143e+02   0.00000000e+00   5.31853771e-01\n",
      "    0.00000000e+00]\n",
      " [  8.75734586e-01   0.00000000e+00  -1.91477903e+00   6.89175466e-01\n",
      "    3.49868979e-01]\n",
      " [  0.00000000e+00   5.54235637e-01   4.39234514e-02  -5.98159089e-01\n",
      "    0.00000000e+00]\n",
      " [  0.00000000e+00   0.00000000e+00   9.79442657e+02   0.00000000e+00\n",
      "   -9.79442657e+02]]\n",
      "Inequality constraints incompatible    (Exit mode 4)\n",
      "            Current function value: -2284.629372492554\n",
      "            Iterations: 177\n",
      "            Function evaluations: 2189\n",
      "            Gradient evaluations: 177\n",
      "     fun: -2284.629372492554\n",
      "     jac: array([ -2.08709717e-01,  -5.42224910e+08,  -2.52990723e-02,\n",
      "         2.75032878e+05,   1.75594303e+09,  -1.57243136e+09,\n",
      "        -5.42756597e+08,  -2.75028975e+05,   5.62684071e+08,\n",
      "        -6.88560304e+07,   0.00000000e+00])\n",
      " message: 'Inequality constraints incompatible'\n",
      "    nfev: 2189\n",
      "     nit: 177\n",
      "    njev: 177\n",
      "  status: 4\n",
      " success: False\n",
      "       x: array([  4.64593912e-07,   3.41051917e+02,   2.65544934e+03,\n",
      "         1.38876283e+03,   9.99999918e+03,   4.32621889e+03,\n",
      "         2.19612726e+02,   2.99939102e+00,   2.05470191e+00,\n",
      "        -1.68337691e-14])\n",
      "-447.89702673666727 [[ -2.96248722e+03   2.73428480e-01   2.96221379e+03   0.00000000e+00\n",
      "    0.00000000e+00]\n",
      " [  9.99336618e-01  -1.00764635e+00   0.00000000e+00   8.30973004e-03\n",
      "    0.00000000e+00]\n",
      " [  5.19874297e-03   0.00000000e+00  -5.01074858e+03   3.97100105e-01\n",
      "    5.01034628e+03]\n",
      " [  0.00000000e+00   8.74501090e-01   2.32778358e+03  -2.32865808e+03\n",
      "    0.00000000e+00]\n",
      " [  0.00000000e+00   0.00000000e+00   6.91322340e-03   0.00000000e+00\n",
      "   -6.91322340e-03]]\n",
      "[  3.80906388e-01   2.42898850e-01   3.11596192e+03   1.59490095e-01\n",
      "   1.68035192e-01   9.08868270e+03   3.04952401e-01   4.45186422e-01\n",
      "   2.79176226e-01   9.94923531e+00]\n",
      "-2284.629372492554\n"
     ]
    }
   ],
   "source": [
    "import math\n",
    "methods = ['COBYLA', 'SLSQP']\n",
    "x = random_starting_point()\n",
    "print ('x=', x)\n",
    "maxx = (x.copy(), reduced(x))\n",
    "for i in range(len(methods)):\n",
    "    result = minimize(does_not_throw,\n",
    "                      x,\n",
    "                      method=methods[i],\n",
    "                      constraints=constraints,\n",
    "                      options={'maxiter': 1000, 'disp':True}) \n",
    "\n",
    "    print(result)\n",
    "    if not math.isnan(result.fun):\n",
    "        if result.fun < maxx[1]: maxx = (x.copy(), result.fun)\n",
    "        if result.success and i > 4: break\n",
    "    x +=  random_starting_point() * 1e-2\n",
    "    if np.all(np.isnan(x)): x = random_starting_point()\n",
    "print(maxx[0])\n",
    "print(maxx[1])"
   ]
  }
 ],
 "metadata": {
  "anaconda-cloud": {},
  "kernelspec": {
   "display_name": "Python [Root]",
   "language": "python",
   "name": "Python [Root]"
  },
  "language_info": {
   "codemirror_mode": {
    "name": "ipython",
    "version": 3
   },
   "file_extension": ".py",
   "mimetype": "text/x-python",
   "name": "python",
   "nbconvert_exporter": "python",
   "pygments_lexer": "ipython3",
   "version": "3.5.1"
  }
 },
 "nbformat": 4,
 "nbformat_minor": 0
}
