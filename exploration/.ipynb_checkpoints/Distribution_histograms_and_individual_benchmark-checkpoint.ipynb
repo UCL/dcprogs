{
 "cells": [
  {
   "cell_type": "markdown",
   "metadata": {},
   "source": [
    "# Distribution histograms and individual benchmarks"
   ]
  },
  {
   "cell_type": "code",
   "execution_count": 1,
   "metadata": {
    "collapsed": true
   },
   "outputs": [],
   "source": [
    "%matplotlib inline"
   ]
  },
  {
   "cell_type": "markdown",
   "metadata": {},
   "source": [
    "This notebook mainly serves to extract data used for the Archer eCSE report."
   ]
  },
  {
   "cell_type": "markdown",
   "metadata": {},
   "source": [
    "Set the number of OpenMP threads to use. Note that the number of threads is fixed at import time of DCPROGS so you will need to change restart the notebook and reexecute from the begining for any changes to take effect."
   ]
  },
  {
   "cell_type": "code",
   "execution_count": 2,
   "metadata": {
    "collapsed": true
   },
   "outputs": [],
   "source": [
    "import os\n",
    "os.environ['OMP_NUM_THREADS'] = '1'"
   ]
  },
  {
   "cell_type": "code",
   "execution_count": 3,
   "metadata": {
    "collapsed": true
   },
   "outputs": [],
   "source": [
    "import numpy as np\n",
    "import matplotlib.pyplot as plt\n",
    "import matplotlib.text as mtext"
   ]
  },
  {
   "cell_type": "code",
   "execution_count": 4,
   "metadata": {
    "collapsed": false
   },
   "outputs": [],
   "source": [
    "import time\n",
    "import math\n",
    "import sys\n",
    "import numpy as np\n",
    "from scipy.optimize import minimize\n",
    "\n",
    "from dcpyps import dcio\n",
    "from dcpyps import dataset\n",
    "from dcpyps import mechanism\n",
    "from HJCFIT.likelihood import Log10Likelihood\n",
    "\n",
    "# LOAD DATA: Burzomato 2004 example set.\n",
    "scnfiles = [[\"./samples/glydemo/A-10.scn\"], \n",
    "            [\"./samples/glydemo/B-30.scn\"],\n",
    "            [\"./samples/glydemo/C-100.scn\"], \n",
    "            [\"./samples/glydemo/D-1000.scn\"]]\n",
    "tres = [0.000030, 0.000030, 0.000030, 0.000030]\n",
    "tcrit = [0.004, -1, -0.06, -0.02]\n",
    "conc = [10e-6, 30e-6, 100e-6, 1000e-6]\n",
    "\n",
    "recs = []\n",
    "bursts = []\n",
    "for i in range(len(scnfiles)):\n",
    "    rec = dataset.SCRecord(scnfiles[i], conc[i], tres[i], tcrit[i])\n",
    "    rec.record_type = 'recorded'\n",
    "    recs.append(rec)\n",
    "    bursts.append(rec.bursts.intervals())"
   ]
  },
  {
   "cell_type": "code",
   "execution_count": 5,
   "metadata": {
    "collapsed": false
   },
   "outputs": [],
   "source": [
    "n_experiments = len(recs)\n",
    "openings = []\n",
    "opening_dists = []\n",
    "n_bursts = np.empty(4)\n",
    "for i,rec in enumerate(recs):\n",
    "    n_bursts[i] = rec.bursts.count()\n",
    "    openings = np.zeros(rec.bursts.count())\n",
    "    for i,burst in enumerate(rec.bursts.all()):\n",
    "        openings[i] = burst.get_openings_number()\n",
    "    opening_dists.append(openings)"
   ]
  },
  {
   "cell_type": "markdown",
   "metadata": {},
   "source": [
    "Plot the distribution of bursts within the 4 different experiments showing how number of bursts corelate with the lenght of the bursts."
   ]
  },
  {
   "cell_type": "code",
   "execution_count": 6,
   "metadata": {
    "collapsed": false
   },
   "outputs": [
    {
     "data": {
      "image/png": "[encoded data removed]",
      "text/plain": [
       "<matplotlib.figure.Figure at 0x80e74e0>"
      ]
     },
     "metadata": {},
     "output_type": "display_data"
    }
   ],
   "source": [
    "fig, ax = plt.subplots(2,2)\n",
    "ax = ax.flatten()\n",
    "for i in range(n_experiments):\n",
    "    ax[i].hist(opening_dists[i], bins=20)\n",
    "    ax[i].set_title(\"Exp: {} N Bursts: {}\".format(i, int(n_bursts[i])), fontsize=10)\n",
    "ylabel = ax[0].set_ylabel('Number of bursts')\n",
    "ylabel = ax[2].set_ylabel('Number of bursts')\n",
    "xlabel = ax[2].set_xlabel('Openings in burst')\n",
    "xlabel = ax[3].set_xlabel('Openings in burst')\n",
    "fig.tight_layout(w_pad=0.1, h_pad=0.1)"
   ]
  },
  {
   "cell_type": "code",
   "execution_count": 7,
   "metadata": {
    "collapsed": false
   },
   "outputs": [
    {
     "name": "stdout",
     "output_type": "stream",
     "text": [
      "\n",
      "class dcpyps.Mechanism\n",
      "Values of unit rates [1/sec]:\n",
      "0\tFrom AF*  \tto AF    \talpha1       \t4500.0\n",
      "1\tFrom AF  \tto AF*    \tbeta1        \t700.0\n",
      "2\tFrom A2F*  \tto A2F    \talpha2       \t2500.0\n",
      "3\tFrom A2F  \tto A2F*    \tbeta2        \t1800.0\n",
      "4\tFrom A3F*  \tto A3F    \talpha3       \t900.0\n",
      "5\tFrom A3F  \tto A3F*    \tbeta3        \t18000.0\n",
      "6\tFrom A3F  \tto A3R    \tgama3        \t200.0\n",
      "7\tFrom A3R  \tto A3F    \tdelta3       \t67459.4594595\n",
      "8\tFrom A3F  \tto A2F    \t3kf(-3)      \t7500.0\n",
      "9\tFrom A2F  \tto A3F    \tkf(+3)       \t400000000.0\n",
      "10\tFrom A2F  \tto A2R    \tgama2        \t1850.0\n",
      "11\tFrom A2R  \tto A2F    \tdelta2       \t10000.0\n",
      "12\tFrom A2F  \tto AF    \t2kf(-2)      \t5000.0\n",
      "13\tFrom AF  \tto A2F    \t2kf(+2)      \t800000000.0\n",
      "14\tFrom AF  \tto AR    \tgama1        \t8500.0\n",
      "15\tFrom AR  \tto AF    \tdelta1       \t736.313236313\n",
      "16\tFrom A3R  \tto A2R    \t3k(-3)       \t5850\n",
      "17\tFrom A2R  \tto A3R    \tk(+3)        \t5000000.0\n",
      "18\tFrom A2R  \tto AR    \t2k(-2)       \t3900\n",
      "19\tFrom AR  \tto A2R    \t2k(+2)       \t10000000.0\n",
      "20\tFrom AR  \tto R    \tk(-1)        \t1950\n",
      "21\tFrom R  \tto AR    \t3k(+1)       \t15000000.0\n",
      "\n",
      "Conductance of state AF* (pS)  =      40\n",
      "\n",
      "Conductance of state A2F* (pS)  =      40\n",
      "\n",
      "Conductance of state A3F* (pS)  =      40\n",
      "\n",
      "Number of open states = 3\n",
      "Number of short-lived shut states (within burst) = 6\n",
      "Number of long-lived shut states (between bursts) = 1\n",
      "Number of desensitised states = 0\n",
      "\n",
      "Number of cycles = 2\n",
      "Cycle 0 is formed of states: A3R  A3F  A2F  A2R  \n",
      "\tforward product = 4.680000000e+18\n",
      "\tbackward product = 4.680000000e+18\n",
      "Cycle 1 is formed of states: AF  A2F  A2R  AR  \n",
      "\tforward product = 4.250000000e+18\n",
      "\tbackward product = 4.250000000e+18"
     ]
    }
   ],
   "source": [
    "# LOAD FLIP MECHANISM USED Burzomato et al 2004\n",
    "mecfn = \"./samples/mec/demomec.mec\"\n",
    "version, meclist, max_mecnum = dcio.mec_get_list(mecfn)\n",
    "mec = dcio.mec_load(mecfn, meclist[2][0])\n",
    "\n",
    "# PREPARE RATE CONSTANTS.\n",
    "rates = [4500.0, 700.0, 2500.0, 1800.0, 900.0, 18000.0, 200.0, 0.1100E+06, 4900.0, 0.4000E+09, 1850.0, 10000.0, 5000.0, 0.7500E+09, 8500.0, 1050.0, 3500.0, 0.5000E+07, 2300.0, 0.9500E+07, 1950, 0.130000E+08]\n",
    "\n",
    "mec.set_rateconstants(rates)\n",
    "\n",
    "# Fixed rates.\n",
    "#fixed = np.array([False, False, False, False, False, False, False, True,\n",
    "#    False, False, False, False, False, False])\n",
    "#if fixed.size == len(mec.Rates):\n",
    "for i in range(len(mec.Rates)):\n",
    "    mec.Rates[i].fixed = False\n",
    "\n",
    "# Constrained rates.\n",
    "mec.Rates[21].is_constrained = True\n",
    "mec.Rates[21].constrain_func = mechanism.constrain_rate_multiple\n",
    "mec.Rates[21].constrain_args = [17, 3]\n",
    "mec.Rates[19].is_constrained = True\n",
    "mec.Rates[19].constrain_func = mechanism.constrain_rate_multiple\n",
    "mec.Rates[19].constrain_args = [17, 2]\n",
    "mec.Rates[16].is_constrained = True\n",
    "mec.Rates[16].constrain_func = mechanism.constrain_rate_multiple\n",
    "mec.Rates[16].constrain_args = [20, 3]\n",
    "mec.Rates[18].is_constrained = True\n",
    "mec.Rates[18].constrain_func = mechanism.constrain_rate_multiple\n",
    "mec.Rates[18].constrain_args = [20, 2]\n",
    "mec.Rates[8].is_constrained = True\n",
    "mec.Rates[8].constrain_func = mechanism.constrain_rate_multiple\n",
    "mec.Rates[8].constrain_args = [12, 1.5]\n",
    "mec.Rates[13].is_constrained = True\n",
    "mec.Rates[13].constrain_func = mechanism.constrain_rate_multiple\n",
    "mec.Rates[13].constrain_args = [9, 2]\n",
    "mec.update_constrains()\n",
    "\n",
    "mec.set_mr(True, 7, 0)\n",
    "mec.set_mr(True, 15, 1)\n",
    "\n",
    "mec.printout(sys.stdout)\n",
    "theta = np.log(mec.theta())\n",
    "\n",
    "kwargs = {'nmax': 2, 'xtol': 1e-12, 'rtol': 1e-12, 'itermax': 100,\n",
    "    'lower_bound': -1e6, 'upper_bound': 0}\n",
    "likelihood = []\n",
    "\n",
    "for i in range(len(recs)):\n",
    "    likelihood.append(Log10Likelihood(bursts[i], mec.kA,\n",
    "        recs[i].tres, recs[i].tcrit, **kwargs))\n",
    "\n",
    "def dcprogslik(x, args=None):\n",
    "    mec.theta_unsqueeze(np.exp(x))\n",
    "    lik = 0\n",
    "    for i in range(len(conc)):\n",
    "        mec.set_eff('c', conc[i])\n",
    "        lik += -likelihood[i](mec.Q) * math.log(10)\n",
    "    return lik"
   ]
  },
  {
   "cell_type": "code",
   "execution_count": 8,
   "metadata": {
    "collapsed": false
   },
   "outputs": [
    {
     "name": "stdout",
     "output_type": "stream",
     "text": [
      "10 loops, best of 3: 55.1 ms per loop\n"
     ]
    }
   ],
   "source": [
    "%%timeit\n",
    "dcprogslik(theta)"
   ]
  },
  {
   "cell_type": "code",
   "execution_count": 9,
   "metadata": {
    "collapsed": false
   },
   "outputs": [
    {
     "name": "stdout",
     "output_type": "stream",
     "text": [
      "100 loops, best of 3: 13.9 ms per loop\n"
     ]
    }
   ],
   "source": [
    "%%timeit\n",
    "i = 0\n",
    "mec.set_eff('c', conc[i])\n",
    "lik = -likelihood[i](mec.Q) * math.log(10)"
   ]
  },
  {
   "cell_type": "code",
   "execution_count": 10,
   "metadata": {
    "collapsed": false
   },
   "outputs": [
    {
     "name": "stdout",
     "output_type": "stream",
     "text": [
      "100 loops, best of 3: 16.3 ms per loop\n"
     ]
    }
   ],
   "source": [
    "%%timeit\n",
    "i = 1\n",
    "mec.set_eff('c', conc[i])\n",
    "lik = -likelihood[i](mec.Q) * math.log(10)"
   ]
  },
  {
   "cell_type": "code",
   "execution_count": 11,
   "metadata": {
    "collapsed": false
   },
   "outputs": [
    {
     "name": "stdout",
     "output_type": "stream",
     "text": [
      "100 loops, best of 3: 13.6 ms per loop\n"
     ]
    }
   ],
   "source": [
    "%%timeit\n",
    "i = 2\n",
    "mec.set_eff('c', conc[i])\n",
    "lik = -likelihood[i](mec.Q) * math.log(10)"
   ]
  },
  {
   "cell_type": "code",
   "execution_count": 12,
   "metadata": {
    "collapsed": false
   },
   "outputs": [
    {
     "name": "stdout",
     "output_type": "stream",
     "text": [
      "100 loops, best of 3: 10.9 ms per loop\n"
     ]
    }
   ],
   "source": [
    "%%timeit\n",
    "i = 3\n",
    "mec.set_eff('c', conc[i])\n",
    "lik = -likelihood[i](mec.Q) * math.log(10)"
   ]
  },
  {
   "cell_type": "code",
   "execution_count": null,
   "metadata": {
    "collapsed": true
   },
   "outputs": [],
   "source": []
  }
 ],
 "metadata": {
  "anaconda-cloud": {},
  "kernelspec": {
   "display_name": "Python [Root]",
   "language": "python",
   "name": "Python [Root]"
  },
  "language_info": {
   "codemirror_mode": {
    "name": "ipython",
    "version": 3
   },
   "file_extension": ".py",
   "mimetype": "text/x-python",
   "name": "python",
   "nbconvert_exporter": "python",
   "pygments_lexer": "ipython3",
   "version": "3.5.1"
  }
 },
 "nbformat": 4,
 "nbformat_minor": 1
}
